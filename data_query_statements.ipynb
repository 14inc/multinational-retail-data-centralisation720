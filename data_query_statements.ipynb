{
 "cells": [
  {
   "cell_type": "markdown",
   "metadata": {},
   "source": [
    "#### M4T1: How many stores does the business have and in which countries?\n"
   ]
  },
  {
   "cell_type": "code",
   "execution_count": null,
   "metadata": {
    "vscode": {
     "languageId": "sql"
    }
   },
   "outputs": [],
   "source": [
    "SELECT country_code AS country, COUNT(\"index\") AS total_no_stores\n",
    "FROM dim_store_details\n",
    "WHERE store_type <> 'Web Portal'\n",
    "GROUP BY country_code\n",
    "ORDER BY total_no_stores DESC"
   ]
  },
  {
   "cell_type": "markdown",
   "metadata": {},
   "source": [
    "#### M4T2: Which locations currently have the most stores"
   ]
  },
  {
   "cell_type": "code",
   "execution_count": null,
   "metadata": {
    "vscode": {
     "languageId": "sql"
    }
   },
   "outputs": [],
   "source": [
    "SELECT locality, COUNT(\"index\") AS total_no_stores\n",
    "FROM dim_store_details\n",
    "GROUP BY locality\n",
    "ORDER BY total_no_stores DESC\n",
    "LIMIT 7"
   ]
  },
  {
   "cell_type": "markdown",
   "metadata": {},
   "source": [
    "#### M4T3: Which months produced the largest amount of sales"
   ]
  },
  {
   "cell_type": "code",
   "execution_count": null,
   "metadata": {
    "vscode": {
     "languageId": "sql"
    }
   },
   "outputs": [],
   "source": [
    "SELECT\n",
    "    SUM(o.product_quantity * p.product_price) AS total_sales,\n",
    "    d.month\n",
    "FROM\n",
    "    orders_table o\n",
    "JOIN\n",
    "    dim_date_times d ON o.date_uuid = d.date_uuid\n",
    "JOIN\n",
    "    dim_products p ON o.product_code = p.product_code\n",
    "GROUP BY\n",
    "    d.month\n",
    "ORDER BY\n",
    "    total_sales DESC;"
   ]
  },
  {
   "cell_type": "markdown",
   "metadata": {},
   "source": [
    "#### M4T4: How many sales are coming from online?"
   ]
  },
  {
   "cell_type": "code",
   "execution_count": null,
   "metadata": {
    "vscode": {
     "languageId": "sql"
    }
   },
   "outputs": [],
   "source": [
    "SELECT\n",
    "    COUNT(o.product_code) AS numbers_of_sales,\n",
    "    SUM(o.product_quantity) AS product_quantity_count,\n",
    "    CASE\n",
    "        WHEN s.store_type = 'Web Portal' THEN 'Web'\n",
    "        ELSE 'Offline'\n",
    "    END AS location\n",
    "FROM\n",
    "    orders_table o\n",
    "JOIN\n",
    "    dim_store_details s ON o.store_code = s.store_code\n",
    "GROUP BY\n",
    "    location\n",
    "ORDER BY\n",
    "    location DESC;\n"
   ]
  },
  {
   "cell_type": "markdown",
   "metadata": {},
   "source": [
    "#### M4T5: What percentage of sales come through each type of store?"
   ]
  },
  {
   "cell_type": "code",
   "execution_count": null,
   "metadata": {
    "vscode": {
     "languageId": "sql"
    }
   },
   "outputs": [],
   "source": [
    "SELECT\n",
    "    store_type,\n",
    "    SUM(o.product_quantity * p.product_price) AS total_sales,\n",
    "    ROUND((SUM(o.product_quantity * p.product_price) / (SELECT SUM(product_quantity * product_price) FROM orders_table o2 JOIN dim_products p2 ON o2.product_code = p2.product_code)) * 100, 2) AS \"sales_made(%)\"\n",
    "FROM\n",
    "    orders_table o\n",
    "JOIN\n",
    "    dim_store_details s ON o.store_code = s.store_code\n",
    "JOIN\n",
    "    dim_products p ON o.product_code = p.product_code\n",
    "GROUP BY\n",
    "    store_type\n",
    "ORDER BY\n",
    "    \"sales_made(%)\" DESC;"
   ]
  },
  {
   "cell_type": "markdown",
   "metadata": {},
   "source": [
    "#### M4T6: Which month in each year produced the highest cost of sales?"
   ]
  },
  {
   "cell_type": "code",
   "execution_count": null,
   "metadata": {
    "vscode": {
     "languageId": "sql"
    }
   },
   "outputs": [],
   "source": [
    "WITH monthly_sales AS (\n",
    "    SELECT\n",
    "        dt.year,\n",
    "        dt.month,\n",
    "        SUM(o.product_quantity * p.product_price) AS total_sales\n",
    "    FROM\n",
    "        orders_table o\n",
    "    JOIN\n",
    "        dim_date_times dt ON o.date_uuid = dt.date_uuid\n",
    "    JOIN\n",
    "        dim_products p ON o.product_code = p.product_code\n",
    "    GROUP BY\n",
    "        dt.year, dt.month\n",
    "),\n",
    "ranked_sales AS (\n",
    "    SELECT\n",
    "        total_sales,\n",
    "        year,\n",
    "        month,\n",
    "        RANK() OVER (PARTITION BY year ORDER BY total_sales DESC) AS sales_rank\n",
    "    FROM\n",
    "        monthly_sales\n",
    ")\n",
    "SELECT\n",
    "    total_sales,\n",
    "    year,\n",
    "    month\n",
    "FROM\n",
    "    ranked_sales\n",
    "WHERE\n",
    "    sales_rank = 1\n",
    "ORDER BY\n",
    "    total_sales DESC;"
   ]
  },
  {
   "cell_type": "markdown",
   "metadata": {},
   "source": [
    "#### M4T7: What is our staff headcount?"
   ]
  },
  {
   "cell_type": "code",
   "execution_count": null,
   "metadata": {
    "vscode": {
     "languageId": "sql"
    }
   },
   "outputs": [],
   "source": [
    "SELECT \n",
    "    SUM(staff_numbers) AS total_staff_numbers,\n",
    "    country_code\n",
    "FROM \n",
    "    dim_store_details\n",
    "GROUP BY \n",
    "    country_code\n",
    "ORDER BY \n",
    "    total_staff_numbers DESC;\n"
   ]
  },
  {
   "cell_type": "markdown",
   "metadata": {},
   "source": [
    "#### M4T8: Which German store type is selling the most"
   ]
  },
  {
   "cell_type": "code",
   "execution_count": null,
   "metadata": {
    "vscode": {
     "languageId": "sql"
    }
   },
   "outputs": [],
   "source": [
    "SELECT \n",
    "    SUM(ot.product_quantity * p.product_price) AS total_sales,\n",
    "    sd.store_type,\n",
    "    sd.country_code\n",
    "FROM \n",
    "    orders_table ot\n",
    "JOIN \n",
    "    dim_products p ON ot.product_code = p.product_code\n",
    "JOIN \n",
    "    dim_store_details sd ON ot.store_code = sd.store_code\n",
    "WHERE \n",
    "    sd.country_code = 'DE'\n",
    "GROUP BY \n",
    "    sd.store_type, sd.country_code\n",
    "ORDER BY \n",
    "    total_sales;\n"
   ]
  },
  {
   "cell_type": "markdown",
   "metadata": {},
   "source": [
    "#### M4T9: How quickly is the company making sales?"
   ]
  },
  {
   "cell_type": "code",
   "execution_count": null,
   "metadata": {
    "vscode": {
     "languageId": "sql"
    }
   },
   "outputs": [],
   "source": [
    "WITH sale_times AS (\n",
    "    SELECT \n",
    "        ot.date_uuid,\n",
    "        dt.year,\n",
    "        dt.month,\n",
    "        dt.day,\n",
    "        -- Create full timestamp by combining year, month, day, and time\n",
    "        TO_TIMESTAMP(dt.year || '-' || dt.month || '-' || dt.day || ' ' || dt.timestamp, 'YYYY-MM-DD HH24:MI:SS') AS full_timestamp,\n",
    "        \n",
    "        -- Calculate next sale's timestamp using LEAD() without partitioning by year\n",
    "        LEAD(\n",
    "            TO_TIMESTAMP(dt.year || '-' || dt.month || '-' || dt.day || ' ' || dt.timestamp, 'YYYY-MM-DD HH24:MI:SS')\n",
    "        ) OVER (ORDER BY TO_TIMESTAMP(dt.year || '-' || dt.month || '-' || dt.day || ' ' || dt.timestamp, 'YYYY-MM-DD HH24:MI:SS') DESC) AS next_full_timestamp\n",
    "    FROM \n",
    "        orders_table ot\n",
    "    JOIN \n",
    "        dim_date_times dt ON ot.date_uuid = dt.date_uuid\n",
    ")\n",
    "SELECT \n",
    "    year,\n",
    "    TO_CHAR(\n",
    "        INTERVAL '1 second' * AVG(\n",
    "            -- Calculate the average time taken (in seconds) between sales\n",
    "            EXTRACT(EPOCH FROM full_timestamp - next_full_timestamp)\n",
    "        ),\n",
    "        'HH24:MI:SS'  -- Format the result as HH:MM:SS\n",
    "    ) AS actual_time_taken\n",
    "FROM \n",
    "    sale_times\n",
    "WHERE \n",
    "    next_full_timestamp IS NOT NULL  -- Ignore rows with no next sale timestamp\n",
    "GROUP BY \n",
    "    year\n",
    "ORDER BY \n",
    "    actual_time_taken DESC;  -- Order by average time taken in descending order\n"
   ]
  }
 ],
 "metadata": {
  "language_info": {
   "name": "python"
  }
 },
 "nbformat": 4,
 "nbformat_minor": 2
}
